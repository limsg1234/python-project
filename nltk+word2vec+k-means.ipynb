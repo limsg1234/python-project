{
 "cells": [
  {
   "cell_type": "code",
   "execution_count": 1,
   "metadata": {},
   "outputs": [
    {
     "name": "stdout",
     "output_type": "stream",
     "text": [
      "(25000, 3)\n",
      "(20, 2)\n",
      "(50000, 2)\n",
      "25000\n",
      "20\n",
      "50000\n"
     ]
    }
   ],
   "source": [
    "# 출력이 너무 길어지지 않게하기 위해 찍지 않도록 했으나 \n",
    "# 실제 학습 할 때는 아래 두 줄을 주석처리 하는 것을 권장한다.\n",
    "#import warnings\n",
    "#warnings.filterwarnings('ignore')\n",
    "import pandas as pd\n",
    "\n",
    "train = pd.read_csv('C:/kaggle/labeledTrainData.tsv', \n",
    "                    header=0, delimiter='\\t', quoting=3)\n",
    "test = pd.read_csv('C:/kaggle/example.tsv', \n",
    "                   header=0, delimiter='\\t', quoting=3)\n",
    "unlabeled_train = pd.read_csv('C:/kaggle/unlabeledTrainData.tsv', \n",
    "                              header=0, delimiter='\\t', quoting=3)\n",
    "\n",
    "print(train.shape)\n",
    "print(test.shape)\n",
    "print(unlabeled_train.shape)\n",
    "\n",
    "print(train['review'].size)\n",
    "print(test['review'].size)\n",
    "print(unlabeled_train['review'].size)"
   ]
  },
  {
   "cell_type": "code",
   "execution_count": 2,
   "metadata": {},
   "outputs": [
    {
     "data": {
      "text/html": [
       "<div>\n",
       "<style scoped>\n",
       "    .dataframe tbody tr th:only-of-type {\n",
       "        vertical-align: middle;\n",
       "    }\n",
       "\n",
       "    .dataframe tbody tr th {\n",
       "        vertical-align: top;\n",
       "    }\n",
       "\n",
       "    .dataframe thead th {\n",
       "        text-align: right;\n",
       "    }\n",
       "</style>\n",
       "<table border=\"1\" class=\"dataframe\">\n",
       "  <thead>\n",
       "    <tr style=\"text-align: right;\">\n",
       "      <th></th>\n",
       "      <th>id</th>\n",
       "      <th>review</th>\n",
       "    </tr>\n",
       "  </thead>\n",
       "  <tbody>\n",
       "    <tr>\n",
       "      <th>0</th>\n",
       "      <td>2</td>\n",
       "      <td>Taste and smell way too overwhelming for a tod...</td>\n",
       "    </tr>\n",
       "    <tr>\n",
       "      <th>1</th>\n",
       "      <td>3</td>\n",
       "      <td>I received my oil today and the bubble wrap ar...</td>\n",
       "    </tr>\n",
       "    <tr>\n",
       "      <th>2</th>\n",
       "      <td>4</td>\n",
       "      <td>Seems to be a quality product. No complaints t...</td>\n",
       "    </tr>\n",
       "    <tr>\n",
       "      <th>3</th>\n",
       "      <td>5</td>\n",
       "      <td>Very fishy. Tried based on other reviews but i...</td>\n",
       "    </tr>\n",
       "    <tr>\n",
       "      <th>4</th>\n",
       "      <td>6</td>\n",
       "      <td>It has the ingredients I was looking for but t...</td>\n",
       "    </tr>\n",
       "    <tr>\n",
       "      <th>5</th>\n",
       "      <td>7</td>\n",
       "      <td>This is the cost-effective solution the the Ba...</td>\n",
       "    </tr>\n",
       "    <tr>\n",
       "      <th>6</th>\n",
       "      <td>8</td>\n",
       "      <td>I'm sure this is a great general supplement, b...</td>\n",
       "    </tr>\n",
       "    <tr>\n",
       "      <th>7</th>\n",
       "      <td>9</td>\n",
       "      <td>Strong strawberry taste . It also does not com...</td>\n",
       "    </tr>\n",
       "    <tr>\n",
       "      <th>8</th>\n",
       "      <td>10</td>\n",
       "      <td>We have not noticed any changes since starting...</td>\n",
       "    </tr>\n",
       "    <tr>\n",
       "      <th>9</th>\n",
       "      <td>11</td>\n",
       "      <td>I noticed not one person asking about the PROP...</td>\n",
       "    </tr>\n",
       "    <tr>\n",
       "      <th>10</th>\n",
       "      <td>12</td>\n",
       "      <td>At first I too loved this shampoo. After only ...</td>\n",
       "    </tr>\n",
       "    <tr>\n",
       "      <th>11</th>\n",
       "      <td>13</td>\n",
       "      <td>I have lost 50% of my hair. I have a receding ...</td>\n",
       "    </tr>\n",
       "    <tr>\n",
       "      <th>12</th>\n",
       "      <td>14</td>\n",
       "      <td>I feel that the product itself is okay, but th...</td>\n",
       "    </tr>\n",
       "    <tr>\n",
       "      <th>13</th>\n",
       "      <td>15</td>\n",
       "      <td>Omg I've been trying to figure out why my hair...</td>\n",
       "    </tr>\n",
       "    <tr>\n",
       "      <th>14</th>\n",
       "      <td>16</td>\n",
       "      <td>My daughter and I use this shampoo daily. It d...</td>\n",
       "    </tr>\n",
       "    <tr>\n",
       "      <th>15</th>\n",
       "      <td>17</td>\n",
       "      <td>Megadosing for tendon injury, 6 weeks off did ...</td>\n",
       "    </tr>\n",
       "    <tr>\n",
       "      <th>16</th>\n",
       "      <td>18</td>\n",
       "      <td>The pills are BIG and can be tough to swallow....</td>\n",
       "    </tr>\n",
       "    <tr>\n",
       "      <th>17</th>\n",
       "      <td>19</td>\n",
       "      <td>I get my blood work done every six months and ...</td>\n",
       "    </tr>\n",
       "    <tr>\n",
       "      <th>18</th>\n",
       "      <td>20</td>\n",
       "      <td>good</td>\n",
       "    </tr>\n",
       "    <tr>\n",
       "      <th>19</th>\n",
       "      <td>21</td>\n",
       "      <td>i bought 2. I received 1 is leaking, another 1...</td>\n",
       "    </tr>\n",
       "  </tbody>\n",
       "</table>\n",
       "</div>"
      ],
      "text/plain": [
       "    id                                             review\n",
       "0    2  Taste and smell way too overwhelming for a tod...\n",
       "1    3  I received my oil today and the bubble wrap ar...\n",
       "2    4  Seems to be a quality product. No complaints t...\n",
       "3    5  Very fishy. Tried based on other reviews but i...\n",
       "4    6  It has the ingredients I was looking for but t...\n",
       "5    7  This is the cost-effective solution the the Ba...\n",
       "6    8  I'm sure this is a great general supplement, b...\n",
       "7    9  Strong strawberry taste . It also does not com...\n",
       "8   10  We have not noticed any changes since starting...\n",
       "9   11  I noticed not one person asking about the PROP...\n",
       "10  12  At first I too loved this shampoo. After only ...\n",
       "11  13  I have lost 50% of my hair. I have a receding ...\n",
       "12  14  I feel that the product itself is okay, but th...\n",
       "13  15  Omg I've been trying to figure out why my hair...\n",
       "14  16  My daughter and I use this shampoo daily. It d...\n",
       "15  17  Megadosing for tendon injury, 6 weeks off did ...\n",
       "16  18  The pills are BIG and can be tough to swallow....\n",
       "17  19  I get my blood work done every six months and ...\n",
       "18  20                                               good\n",
       "19  21  i bought 2. I received 1 is leaking, another 1..."
      ]
     },
     "execution_count": 2,
     "metadata": {},
     "output_type": "execute_result"
    }
   ],
   "source": [
    "test"
   ]
  },
  {
   "cell_type": "code",
   "execution_count": 3,
   "metadata": {},
   "outputs": [
    {
     "data": {
      "text/html": [
       "<div>\n",
       "<style scoped>\n",
       "    .dataframe tbody tr th:only-of-type {\n",
       "        vertical-align: middle;\n",
       "    }\n",
       "\n",
       "    .dataframe tbody tr th {\n",
       "        vertical-align: top;\n",
       "    }\n",
       "\n",
       "    .dataframe thead th {\n",
       "        text-align: right;\n",
       "    }\n",
       "</style>\n",
       "<table border=\"1\" class=\"dataframe\">\n",
       "  <thead>\n",
       "    <tr style=\"text-align: right;\">\n",
       "      <th></th>\n",
       "      <th>id</th>\n",
       "      <th>sentiment</th>\n",
       "      <th>review</th>\n",
       "    </tr>\n",
       "  </thead>\n",
       "  <tbody>\n",
       "    <tr>\n",
       "      <th>0</th>\n",
       "      <td>\"5814_8\"</td>\n",
       "      <td>1</td>\n",
       "      <td>\"With all this stuff going down at the moment ...</td>\n",
       "    </tr>\n",
       "    <tr>\n",
       "      <th>1</th>\n",
       "      <td>\"2381_9\"</td>\n",
       "      <td>1</td>\n",
       "      <td>\"\\\"The Classic War of the Worlds\\\" by Timothy ...</td>\n",
       "    </tr>\n",
       "    <tr>\n",
       "      <th>2</th>\n",
       "      <td>\"7759_3\"</td>\n",
       "      <td>0</td>\n",
       "      <td>\"The film starts with a manager (Nicholas Bell...</td>\n",
       "    </tr>\n",
       "    <tr>\n",
       "      <th>3</th>\n",
       "      <td>\"3630_4\"</td>\n",
       "      <td>0</td>\n",
       "      <td>\"It must be assumed that those who praised thi...</td>\n",
       "    </tr>\n",
       "    <tr>\n",
       "      <th>4</th>\n",
       "      <td>\"9495_8\"</td>\n",
       "      <td>1</td>\n",
       "      <td>\"Superbly trashy and wondrously unpretentious ...</td>\n",
       "    </tr>\n",
       "  </tbody>\n",
       "</table>\n",
       "</div>"
      ],
      "text/plain": [
       "         id  sentiment                                             review\n",
       "0  \"5814_8\"          1  \"With all this stuff going down at the moment ...\n",
       "1  \"2381_9\"          1  \"\\\"The Classic War of the Worlds\\\" by Timothy ...\n",
       "2  \"7759_3\"          0  \"The film starts with a manager (Nicholas Bell...\n",
       "3  \"3630_4\"          0  \"It must be assumed that those who praised thi...\n",
       "4  \"9495_8\"          1  \"Superbly trashy and wondrously unpretentious ..."
      ]
     },
     "execution_count": 3,
     "metadata": {},
     "output_type": "execute_result"
    }
   ],
   "source": [
    "train.head()"
   ]
  },
  {
   "cell_type": "code",
   "execution_count": 4,
   "metadata": {},
   "outputs": [
    {
     "data": {
      "text/html": [
       "<div>\n",
       "<style scoped>\n",
       "    .dataframe tbody tr th:only-of-type {\n",
       "        vertical-align: middle;\n",
       "    }\n",
       "\n",
       "    .dataframe tbody tr th {\n",
       "        vertical-align: top;\n",
       "    }\n",
       "\n",
       "    .dataframe thead th {\n",
       "        text-align: right;\n",
       "    }\n",
       "</style>\n",
       "<table border=\"1\" class=\"dataframe\">\n",
       "  <thead>\n",
       "    <tr style=\"text-align: right;\">\n",
       "      <th></th>\n",
       "      <th>id</th>\n",
       "      <th>review</th>\n",
       "    </tr>\n",
       "  </thead>\n",
       "  <tbody>\n",
       "    <tr>\n",
       "      <th>0</th>\n",
       "      <td>\"9999_0\"</td>\n",
       "      <td>\"Watching Time Chasers, it obvious that it was...</td>\n",
       "    </tr>\n",
       "    <tr>\n",
       "      <th>1</th>\n",
       "      <td>\"45057_0\"</td>\n",
       "      <td>\"I saw this film about 20 years ago and rememb...</td>\n",
       "    </tr>\n",
       "    <tr>\n",
       "      <th>2</th>\n",
       "      <td>\"15561_0\"</td>\n",
       "      <td>\"Minor Spoilers&lt;br /&gt;&lt;br /&gt;In New York, Joan B...</td>\n",
       "    </tr>\n",
       "    <tr>\n",
       "      <th>3</th>\n",
       "      <td>\"7161_0\"</td>\n",
       "      <td>\"I went to see this film with a great deal of ...</td>\n",
       "    </tr>\n",
       "    <tr>\n",
       "      <th>4</th>\n",
       "      <td>\"43971_0\"</td>\n",
       "      <td>\"Yes, I agree with everyone on this site this ...</td>\n",
       "    </tr>\n",
       "  </tbody>\n",
       "</table>\n",
       "</div>"
      ],
      "text/plain": [
       "          id                                             review\n",
       "0   \"9999_0\"  \"Watching Time Chasers, it obvious that it was...\n",
       "1  \"45057_0\"  \"I saw this film about 20 years ago and rememb...\n",
       "2  \"15561_0\"  \"Minor Spoilers<br /><br />In New York, Joan B...\n",
       "3   \"7161_0\"  \"I went to see this film with a great deal of ...\n",
       "4  \"43971_0\"  \"Yes, I agree with everyone on this site this ..."
      ]
     },
     "execution_count": 4,
     "metadata": {},
     "output_type": "execute_result"
    }
   ],
   "source": [
    "unlabeled_train.head()"
   ]
  },
  {
   "cell_type": "code",
   "execution_count": 5,
   "metadata": {},
   "outputs": [],
   "source": [
    "from KaggleUtility import Utility"
   ]
  },
  {
   "cell_type": "code",
   "execution_count": 6,
   "metadata": {},
   "outputs": [
    {
     "data": {
      "text/plain": [
       "['with', 'all', 'this', 'stuff', 'go', 'down', 'at', 'the', 'moment', 'with']"
      ]
     },
     "execution_count": 6,
     "metadata": {},
     "output_type": "execute_result"
    }
   ],
   "source": [
    "Utility.review_to_wordlist(train['review'][0])[:10]"
   ]
  },
  {
   "cell_type": "code",
   "execution_count": 7,
   "metadata": {},
   "outputs": [
    {
     "name": "stderr",
     "output_type": "stream",
     "text": [
      "C:\\Anaconda3\\lib\\site-packages\\bs4\\__init__.py:273: UserWarning: \"b'.'\" looks like a filename, not markup. You should probably open this file and pass the filehandle into Beautiful Soup.\n",
      "  ' Beautiful Soup.' % markup)\n",
      "C:\\Anaconda3\\lib\\site-packages\\bs4\\__init__.py:273: UserWarning: \"b'...'\" looks like a filename, not markup. You should probably open this file and pass the filehandle into Beautiful Soup.\n",
      "  ' Beautiful Soup.' % markup)\n",
      "C:\\Anaconda3\\lib\\site-packages\\bs4\\__init__.py:336: UserWarning: \"http://www.happierabroad.com\"\" looks like a URL. Beautiful Soup is not an HTTP client. You should probably use an HTTP client like requests to get the document behind the URL, and feed that document to Beautiful Soup.\n",
      "  ' that document to Beautiful Soup.' % decoded_markup\n"
     ]
    }
   ],
   "source": [
    "sentences = []\n",
    "for review in train[\"review\"]:\n",
    "    sentences += Utility.review_to_sentences(review, remove_stopwords=False)"
   ]
  },
  {
   "cell_type": "code",
   "execution_count": 8,
   "metadata": {},
   "outputs": [
    {
     "data": {
      "text/plain": [
       "266551"
      ]
     },
     "execution_count": 8,
     "metadata": {},
     "output_type": "execute_result"
    }
   ],
   "source": [
    "len(sentences)"
   ]
  },
  {
   "cell_type": "code",
   "execution_count": 9,
   "metadata": {},
   "outputs": [
    {
     "name": "stderr",
     "output_type": "stream",
     "text": [
      "C:\\Anaconda3\\lib\\site-packages\\bs4\\__init__.py:336: UserWarning: \"http://www.archive.org/details/LovefromaStranger\"\" looks like a URL. Beautiful Soup is not an HTTP client. You should probably use an HTTP client like requests to get the document behind the URL, and feed that document to Beautiful Soup.\n",
      "  ' that document to Beautiful Soup.' % decoded_markup\n",
      "C:\\Anaconda3\\lib\\site-packages\\bs4\\__init__.py:336: UserWarning: \"http://www.loosechangeguide.com/LooseChangeGuide.html\"\" looks like a URL. Beautiful Soup is not an HTTP client. You should probably use an HTTP client like requests to get the document behind the URL, and feed that document to Beautiful Soup.\n",
      "  ' that document to Beautiful Soup.' % decoded_markup\n",
      "C:\\Anaconda3\\lib\\site-packages\\bs4\\__init__.py:273: UserWarning: \"b'... ...'\" looks like a filename, not markup. You should probably open this file and pass the filehandle into Beautiful Soup.\n",
      "  ' Beautiful Soup.' % markup)\n",
      "C:\\Anaconda3\\lib\\site-packages\\bs4\\__init__.py:273: UserWarning: \"b'....'\" looks like a filename, not markup. You should probably open this file and pass the filehandle into Beautiful Soup.\n",
      "  ' Beautiful Soup.' % markup)\n",
      "C:\\Anaconda3\\lib\\site-packages\\bs4\\__init__.py:336: UserWarning: \"http://www.msnbc.msn.com/id/4972055/site/newsweek/\"\" looks like a URL. Beautiful Soup is not an HTTP client. You should probably use an HTTP client like requests to get the document behind the URL, and feed that document to Beautiful Soup.\n",
      "  ' that document to Beautiful Soup.' % decoded_markup\n",
      "C:\\Anaconda3\\lib\\site-packages\\bs4\\__init__.py:273: UserWarning: \"b'..'\" looks like a filename, not markup. You should probably open this file and pass the filehandle into Beautiful Soup.\n",
      "  ' Beautiful Soup.' % markup)\n",
      "C:\\Anaconda3\\lib\\site-packages\\bs4\\__init__.py:336: UserWarning: \"http://www.youtube.com/watch?v=a0KSqelmgN8\"\" looks like a URL. Beautiful Soup is not an HTTP client. You should probably use an HTTP client like requests to get the document behind the URL, and feed that document to Beautiful Soup.\n",
      "  ' that document to Beautiful Soup.' % decoded_markup\n",
      "C:\\Anaconda3\\lib\\site-packages\\bs4\\__init__.py:273: UserWarning: \"b'.. .'\" looks like a filename, not markup. You should probably open this file and pass the filehandle into Beautiful Soup.\n",
      "  ' Beautiful Soup.' % markup)\n",
      "C:\\Anaconda3\\lib\\site-packages\\bs4\\__init__.py:336: UserWarning: \"http://jake-weird.blogspot.com/2007/08/beneath.html\"\" looks like a URL. Beautiful Soup is not an HTTP client. You should probably use an HTTP client like requests to get the document behind the URL, and feed that document to Beautiful Soup.\n",
      "  ' that document to Beautiful Soup.' % decoded_markup\n"
     ]
    }
   ],
   "source": [
    "for review in unlabeled_train[\"review\"]:\n",
    "    sentences += Utility.review_to_sentences(review, remove_stopwords=False)"
   ]
  },
  {
   "cell_type": "code",
   "execution_count": 10,
   "metadata": {},
   "outputs": [
    {
     "data": {
      "text/plain": [
       "795538"
      ]
     },
     "execution_count": 10,
     "metadata": {},
     "output_type": "execute_result"
    }
   ],
   "source": [
    "len(sentences)"
   ]
  },
  {
   "cell_type": "code",
   "execution_count": 11,
   "metadata": {},
   "outputs": [
    {
     "data": {
      "text/plain": [
       "['with', 'all', 'this', 'stuff', 'go', 'down', 'at', 'the', 'moment', 'with']"
      ]
     },
     "execution_count": 11,
     "metadata": {},
     "output_type": "execute_result"
    }
   ],
   "source": [
    "sentences[0][:10]"
   ]
  },
  {
   "cell_type": "code",
   "execution_count": 12,
   "metadata": {},
   "outputs": [],
   "source": [
    "import logging\n",
    "logging.basicConfig(format='%(asctime)s : %(levelname)s : %(message)s', level=logging.INFO)"
   ]
  },
  {
   "cell_type": "code",
   "execution_count": 13,
   "metadata": {},
   "outputs": [
    {
     "name": "stderr",
     "output_type": "stream",
     "text": [
      "2019-02-07 16:51:23,793 : INFO : 'pattern' package not found; tag filters are not available for English\n",
      "2019-02-07 16:51:23,805 : INFO : collecting all words and their counts\n",
      "2019-02-07 16:51:23,806 : INFO : PROGRESS: at sentence #0, processed 0 words, keeping 0 word types\n",
      "2019-02-07 16:51:23,864 : INFO : PROGRESS: at sentence #10000, processed 225803 words, keeping 12465 word types\n",
      "2019-02-07 16:51:23,914 : INFO : PROGRESS: at sentence #20000, processed 451892 words, keeping 17070 word types\n",
      "2019-02-07 16:51:23,961 : INFO : PROGRESS: at sentence #30000, processed 671314 words, keeping 20370 word types\n",
      "2019-02-07 16:51:24,021 : INFO : PROGRESS: at sentence #40000, processed 897814 words, keeping 23125 word types\n",
      "2019-02-07 16:51:24,078 : INFO : PROGRESS: at sentence #50000, processed 1116962 words, keeping 25365 word types\n",
      "2019-02-07 16:51:24,124 : INFO : PROGRESS: at sentence #60000, processed 1338403 words, keeping 27283 word types\n",
      "2019-02-07 16:51:24,188 : INFO : PROGRESS: at sentence #70000, processed 1561579 words, keeping 29024 word types\n",
      "2019-02-07 16:51:24,239 : INFO : PROGRESS: at sentence #80000, processed 1780886 words, keeping 30603 word types\n",
      "2019-02-07 16:51:24,291 : INFO : PROGRESS: at sentence #90000, processed 2004995 words, keeping 32223 word types\n",
      "2019-02-07 16:51:24,349 : INFO : PROGRESS: at sentence #100000, processed 2226966 words, keeping 33579 word types\n",
      "2019-02-07 16:51:24,395 : INFO : PROGRESS: at sentence #110000, processed 2446580 words, keeping 34827 word types\n",
      "2019-02-07 16:51:24,445 : INFO : PROGRESS: at sentence #120000, processed 2668775 words, keeping 36183 word types\n",
      "2019-02-07 16:51:24,490 : INFO : PROGRESS: at sentence #130000, processed 2894303 words, keeping 37353 word types\n",
      "2019-02-07 16:51:24,547 : INFO : PROGRESS: at sentence #140000, processed 3107005 words, keeping 38376 word types\n",
      "2019-02-07 16:51:24,601 : INFO : PROGRESS: at sentence #150000, processed 3332627 words, keeping 39556 word types\n",
      "2019-02-07 16:51:24,649 : INFO : PROGRESS: at sentence #160000, processed 3555315 words, keeping 40629 word types\n",
      "2019-02-07 16:51:24,711 : INFO : PROGRESS: at sentence #170000, processed 3778655 words, keeping 41628 word types\n",
      "2019-02-07 16:51:24,764 : INFO : PROGRESS: at sentence #180000, processed 3999236 words, keeping 42599 word types\n",
      "2019-02-07 16:51:24,824 : INFO : PROGRESS: at sentence #190000, processed 4224449 words, keeping 43461 word types\n",
      "2019-02-07 16:51:24,893 : INFO : PROGRESS: at sentence #200000, processed 4448603 words, keeping 44301 word types\n",
      "2019-02-07 16:51:24,941 : INFO : PROGRESS: at sentence #210000, processed 4669967 words, keeping 45212 word types\n",
      "2019-02-07 16:51:25,001 : INFO : PROGRESS: at sentence #220000, processed 4894968 words, keeping 46134 word types\n",
      "2019-02-07 16:51:25,047 : INFO : PROGRESS: at sentence #230000, processed 5117546 words, keeping 46986 word types\n",
      "2019-02-07 16:51:25,099 : INFO : PROGRESS: at sentence #240000, processed 5345051 words, keeping 47854 word types\n",
      "2019-02-07 16:51:25,144 : INFO : PROGRESS: at sentence #250000, processed 5559166 words, keeping 48699 word types\n",
      "2019-02-07 16:51:25,200 : INFO : PROGRESS: at sentence #260000, processed 5779147 words, keeping 49469 word types\n",
      "2019-02-07 16:51:25,247 : INFO : PROGRESS: at sentence #270000, processed 6000436 words, keeping 50416 word types\n",
      "2019-02-07 16:51:25,305 : INFO : PROGRESS: at sentence #280000, processed 6226315 words, keeping 51640 word types\n",
      "2019-02-07 16:51:25,360 : INFO : PROGRESS: at sentence #290000, processed 6449475 words, keeping 52754 word types\n",
      "2019-02-07 16:51:25,418 : INFO : PROGRESS: at sentence #300000, processed 6674078 words, keeping 53755 word types\n",
      "2019-02-07 16:51:25,464 : INFO : PROGRESS: at sentence #310000, processed 6899392 words, keeping 54734 word types\n",
      "2019-02-07 16:51:25,521 : INFO : PROGRESS: at sentence #320000, processed 7124279 words, keeping 55770 word types\n",
      "2019-02-07 16:51:25,569 : INFO : PROGRESS: at sentence #330000, processed 7346022 words, keeping 56687 word types\n",
      "2019-02-07 16:51:25,626 : INFO : PROGRESS: at sentence #340000, processed 7575534 words, keeping 57629 word types\n",
      "2019-02-07 16:51:25,681 : INFO : PROGRESS: at sentence #350000, processed 7798804 words, keeping 58485 word types\n",
      "2019-02-07 16:51:25,727 : INFO : PROGRESS: at sentence #360000, processed 8019467 words, keeping 59345 word types\n",
      "2019-02-07 16:51:25,781 : INFO : PROGRESS: at sentence #370000, processed 8246659 words, keeping 60161 word types\n",
      "2019-02-07 16:51:25,828 : INFO : PROGRESS: at sentence #380000, processed 8471806 words, keeping 61069 word types\n",
      "2019-02-07 16:51:25,894 : INFO : PROGRESS: at sentence #390000, processed 8701556 words, keeping 61810 word types\n",
      "2019-02-07 16:51:25,954 : INFO : PROGRESS: at sentence #400000, processed 8924505 words, keeping 62546 word types\n",
      "2019-02-07 16:51:26,008 : INFO : PROGRESS: at sentence #410000, processed 9145855 words, keeping 63263 word types\n",
      "2019-02-07 16:51:26,069 : INFO : PROGRESS: at sentence #420000, processed 9366935 words, keeping 64024 word types\n",
      "2019-02-07 16:51:26,115 : INFO : PROGRESS: at sentence #430000, processed 9594472 words, keeping 64795 word types\n",
      "2019-02-07 16:51:26,173 : INFO : PROGRESS: at sentence #440000, processed 9821225 words, keeping 65539 word types\n",
      "2019-02-07 16:51:26,223 : INFO : PROGRESS: at sentence #450000, processed 10044987 words, keeping 66378 word types\n",
      "2019-02-07 16:51:26,292 : INFO : PROGRESS: at sentence #460000, processed 10277747 words, keeping 67158 word types\n",
      "2019-02-07 16:51:26,342 : INFO : PROGRESS: at sentence #470000, processed 10505672 words, keeping 67775 word types\n",
      "2019-02-07 16:51:26,402 : INFO : PROGRESS: at sentence #480000, processed 10726056 words, keeping 68500 word types\n",
      "2019-02-07 16:51:26,464 : INFO : PROGRESS: at sentence #490000, processed 10952800 words, keeping 69256 word types\n",
      "2019-02-07 16:51:26,511 : INFO : PROGRESS: at sentence #500000, processed 11174456 words, keeping 69892 word types\n",
      "2019-02-07 16:51:26,569 : INFO : PROGRESS: at sentence #510000, processed 11399731 words, keeping 70593 word types\n",
      "2019-02-07 16:51:26,616 : INFO : PROGRESS: at sentence #520000, processed 11623082 words, keeping 71267 word types\n",
      "2019-02-07 16:51:26,697 : INFO : PROGRESS: at sentence #530000, processed 11847480 words, keeping 71877 word types\n",
      "2019-02-07 16:51:26,770 : INFO : PROGRESS: at sentence #540000, processed 12072095 words, keeping 72537 word types\n",
      "2019-02-07 16:51:26,854 : INFO : PROGRESS: at sentence #550000, processed 12297646 words, keeping 73212 word types\n",
      "2019-02-07 16:51:26,925 : INFO : PROGRESS: at sentence #560000, processed 12518936 words, keeping 73861 word types\n",
      "2019-02-07 16:51:26,975 : INFO : PROGRESS: at sentence #570000, processed 12748083 words, keeping 74431 word types\n",
      "2019-02-07 16:51:27,021 : INFO : PROGRESS: at sentence #580000, processed 12969579 words, keeping 75087 word types\n",
      "2019-02-07 16:51:27,066 : INFO : PROGRESS: at sentence #590000, processed 13195103 words, keeping 75734 word types\n",
      "2019-02-07 16:51:27,110 : INFO : PROGRESS: at sentence #600000, processed 13417301 words, keeping 76295 word types\n",
      "2019-02-07 16:51:27,155 : INFO : PROGRESS: at sentence #610000, processed 13638324 words, keeping 76953 word types\n",
      "2019-02-07 16:51:27,199 : INFO : PROGRESS: at sentence #620000, processed 13864649 words, keeping 77504 word types\n",
      "2019-02-07 16:51:27,242 : INFO : PROGRESS: at sentence #630000, processed 14088935 words, keeping 78067 word types\n",
      "2019-02-07 16:51:27,288 : INFO : PROGRESS: at sentence #640000, processed 14309718 words, keeping 78693 word types\n",
      "2019-02-07 16:51:27,330 : INFO : PROGRESS: at sentence #650000, processed 14535474 words, keeping 79296 word types\n",
      "2019-02-07 16:51:27,380 : INFO : PROGRESS: at sentence #660000, processed 14758264 words, keeping 79865 word types\n",
      "2019-02-07 16:51:27,429 : INFO : PROGRESS: at sentence #670000, processed 14981657 words, keeping 80382 word types\n",
      "2019-02-07 16:51:27,474 : INFO : PROGRESS: at sentence #680000, processed 15206489 words, keeping 80913 word types\n",
      "2019-02-07 16:51:27,518 : INFO : PROGRESS: at sentence #690000, processed 15428682 words, keeping 81483 word types\n",
      "2019-02-07 16:51:27,563 : INFO : PROGRESS: at sentence #700000, processed 15657388 words, keeping 82075 word types\n"
     ]
    },
    {
     "name": "stderr",
     "output_type": "stream",
     "text": [
      "2019-02-07 16:51:27,609 : INFO : PROGRESS: at sentence #710000, processed 15880377 words, keeping 82561 word types\n",
      "2019-02-07 16:51:27,654 : INFO : PROGRESS: at sentence #720000, processed 16105664 words, keeping 83037 word types\n",
      "2019-02-07 16:51:27,698 : INFO : PROGRESS: at sentence #730000, processed 16332045 words, keeping 83572 word types\n",
      "2019-02-07 16:51:27,742 : INFO : PROGRESS: at sentence #740000, processed 16553078 words, keeping 84128 word types\n",
      "2019-02-07 16:51:27,785 : INFO : PROGRESS: at sentence #750000, processed 16771405 words, keeping 84600 word types\n",
      "2019-02-07 16:51:27,829 : INFO : PROGRESS: at sentence #760000, processed 16990809 words, keeping 85069 word types\n",
      "2019-02-07 16:51:27,874 : INFO : PROGRESS: at sentence #770000, processed 17217946 words, keeping 85645 word types\n",
      "2019-02-07 16:51:27,920 : INFO : PROGRESS: at sentence #780000, processed 17448092 words, keeping 86161 word types\n",
      "2019-02-07 16:51:27,968 : INFO : PROGRESS: at sentence #790000, processed 17675168 words, keeping 86666 word types\n",
      "2019-02-07 16:51:27,992 : INFO : collected 86997 word types from a corpus of 17798269 raw words and 795538 sentences\n",
      "2019-02-07 16:51:27,993 : INFO : Loading a fresh vocabulary\n",
      "2019-02-07 16:51:28,045 : INFO : effective_min_count=40 retains 11986 unique words (13% of original 86997, drops 75011)\n",
      "2019-02-07 16:51:28,046 : INFO : effective_min_count=40 leaves 17434031 word corpus (97% of original 17798269, drops 364238)\n",
      "2019-02-07 16:51:28,084 : INFO : deleting the raw counts dictionary of 86997 items\n",
      "2019-02-07 16:51:28,087 : INFO : sample=0.001 downsamples 50 most-common words\n",
      "2019-02-07 16:51:28,088 : INFO : downsampling leaves estimated 12872362 word corpus (73.8% of prior 17434031)\n",
      "2019-02-07 16:51:28,118 : INFO : estimated required memory for 11986 words and 300 dimensions: 34759400 bytes\n",
      "2019-02-07 16:51:28,119 : INFO : resetting layer weights\n",
      "2019-02-07 16:51:28,326 : INFO : training model with 4 workers on 11986 vocabulary and 300 features, using sg=0 hs=0 sample=0.001 negative=5 window=10\n",
      "2019-02-07 16:51:29,337 : INFO : EPOCH 1 - PROGRESS: at 8.11% examples, 1034450 words/s, in_qsize 7, out_qsize 0\n",
      "2019-02-07 16:51:30,339 : INFO : EPOCH 1 - PROGRESS: at 16.56% examples, 1054235 words/s, in_qsize 7, out_qsize 0\n",
      "2019-02-07 16:51:31,342 : INFO : EPOCH 1 - PROGRESS: at 24.88% examples, 1058010 words/s, in_qsize 7, out_qsize 0\n",
      "2019-02-07 16:51:32,358 : INFO : EPOCH 1 - PROGRESS: at 33.15% examples, 1052760 words/s, in_qsize 7, out_qsize 0\n",
      "2019-02-07 16:51:33,363 : INFO : EPOCH 1 - PROGRESS: at 40.80% examples, 1038930 words/s, in_qsize 7, out_qsize 0\n",
      "2019-02-07 16:51:34,373 : INFO : EPOCH 1 - PROGRESS: at 48.33% examples, 1026407 words/s, in_qsize 7, out_qsize 0\n",
      "2019-02-07 16:51:35,376 : INFO : EPOCH 1 - PROGRESS: at 56.77% examples, 1035066 words/s, in_qsize 7, out_qsize 0\n",
      "2019-02-07 16:51:36,380 : INFO : EPOCH 1 - PROGRESS: at 65.17% examples, 1041548 words/s, in_qsize 7, out_qsize 0\n",
      "2019-02-07 16:51:37,384 : INFO : EPOCH 1 - PROGRESS: at 73.68% examples, 1047238 words/s, in_qsize 7, out_qsize 0\n",
      "2019-02-07 16:51:38,386 : INFO : EPOCH 1 - PROGRESS: at 82.21% examples, 1052010 words/s, in_qsize 7, out_qsize 0\n",
      "2019-02-07 16:51:39,386 : INFO : EPOCH 1 - PROGRESS: at 90.59% examples, 1054800 words/s, in_qsize 7, out_qsize 0\n",
      "2019-02-07 16:51:40,394 : INFO : EPOCH 1 - PROGRESS: at 99.16% examples, 1058229 words/s, in_qsize 7, out_qsize 0\n",
      "2019-02-07 16:51:40,472 : INFO : worker thread finished; awaiting finish of 3 more threads\n",
      "2019-02-07 16:51:40,479 : INFO : worker thread finished; awaiting finish of 2 more threads\n",
      "2019-02-07 16:51:40,484 : INFO : worker thread finished; awaiting finish of 1 more threads\n",
      "2019-02-07 16:51:40,492 : INFO : worker thread finished; awaiting finish of 0 more threads\n",
      "2019-02-07 16:51:40,493 : INFO : EPOCH - 1 : training on 17798269 raw words (12871437 effective words) took 12.2s, 1058479 effective words/s\n",
      "2019-02-07 16:51:41,502 : INFO : EPOCH 2 - PROGRESS: at 8.16% examples, 1042998 words/s, in_qsize 7, out_qsize 0\n",
      "2019-02-07 16:51:42,507 : INFO : EPOCH 2 - PROGRESS: at 16.67% examples, 1061561 words/s, in_qsize 7, out_qsize 0\n",
      "2019-02-07 16:51:43,509 : INFO : EPOCH 2 - PROGRESS: at 25.16% examples, 1070188 words/s, in_qsize 7, out_qsize 0\n",
      "2019-02-07 16:51:44,512 : INFO : EPOCH 2 - PROGRESS: at 33.66% examples, 1071794 words/s, in_qsize 7, out_qsize 0\n",
      "2019-02-07 16:51:45,515 : INFO : EPOCH 2 - PROGRESS: at 42.02% examples, 1073651 words/s, in_qsize 7, out_qsize 0\n",
      "2019-02-07 16:51:46,518 : INFO : EPOCH 2 - PROGRESS: at 50.05% examples, 1067369 words/s, in_qsize 7, out_qsize 0\n",
      "2019-02-07 16:51:47,522 : INFO : EPOCH 2 - PROGRESS: at 58.24% examples, 1065611 words/s, in_qsize 7, out_qsize 0\n",
      "2019-02-07 16:51:48,536 : INFO : EPOCH 2 - PROGRESS: at 66.45% examples, 1063207 words/s, in_qsize 7, out_qsize 0\n",
      "2019-02-07 16:51:49,541 : INFO : EPOCH 2 - PROGRESS: at 74.18% examples, 1055433 words/s, in_qsize 7, out_qsize 0\n",
      "2019-02-07 16:51:50,543 : INFO : EPOCH 2 - PROGRESS: at 81.92% examples, 1049239 words/s, in_qsize 7, out_qsize 0\n",
      "2019-02-07 16:51:51,556 : INFO : EPOCH 2 - PROGRESS: at 88.92% examples, 1034671 words/s, in_qsize 7, out_qsize 0\n",
      "2019-02-07 16:51:52,563 : INFO : EPOCH 2 - PROGRESS: at 96.75% examples, 1031559 words/s, in_qsize 7, out_qsize 0\n",
      "2019-02-07 16:51:52,962 : INFO : worker thread finished; awaiting finish of 3 more threads\n",
      "2019-02-07 16:51:52,976 : INFO : worker thread finished; awaiting finish of 2 more threads\n",
      "2019-02-07 16:51:52,981 : INFO : worker thread finished; awaiting finish of 1 more threads\n",
      "2019-02-07 16:51:52,984 : INFO : worker thread finished; awaiting finish of 0 more threads\n",
      "2019-02-07 16:51:52,985 : INFO : EPOCH - 2 : training on 17798269 raw words (12869891 effective words) took 12.5s, 1030825 effective words/s\n",
      "2019-02-07 16:51:53,998 : INFO : EPOCH 3 - PROGRESS: at 6.62% examples, 848204 words/s, in_qsize 7, out_qsize 0\n",
      "2019-02-07 16:51:55,000 : INFO : EPOCH 3 - PROGRESS: at 13.54% examples, 863885 words/s, in_qsize 7, out_qsize 0\n",
      "2019-02-07 16:51:56,005 : INFO : EPOCH 3 - PROGRESS: at 21.12% examples, 896639 words/s, in_qsize 7, out_qsize 0\n",
      "2019-02-07 16:51:57,008 : INFO : EPOCH 3 - PROGRESS: at 29.15% examples, 929854 words/s, in_qsize 7, out_qsize 0\n",
      "2019-02-07 16:51:58,022 : INFO : EPOCH 3 - PROGRESS: at 37.51% examples, 954624 words/s, in_qsize 7, out_qsize 0\n",
      "2019-02-07 16:51:59,032 : INFO : EPOCH 3 - PROGRESS: at 45.89% examples, 974294 words/s, in_qsize 7, out_qsize 0\n",
      "2019-02-07 16:52:00,041 : INFO : EPOCH 3 - PROGRESS: at 54.15% examples, 986574 words/s, in_qsize 7, out_qsize 0\n",
      "2019-02-07 16:52:01,045 : INFO : EPOCH 3 - PROGRESS: at 61.30% examples, 979209 words/s, in_qsize 7, out_qsize 0\n",
      "2019-02-07 16:52:02,047 : INFO : EPOCH 3 - PROGRESS: at 68.26% examples, 969688 words/s, in_qsize 7, out_qsize 0\n",
      "2019-02-07 16:52:03,049 : INFO : EPOCH 3 - PROGRESS: at 76.22% examples, 975128 words/s, in_qsize 7, out_qsize 0\n",
      "2019-02-07 16:52:04,049 : INFO : EPOCH 3 - PROGRESS: at 84.62% examples, 984820 words/s, in_qsize 7, out_qsize 0\n",
      "2019-02-07 16:52:05,057 : INFO : EPOCH 3 - PROGRESS: at 92.04% examples, 982103 words/s, in_qsize 7, out_qsize 0\n",
      "2019-02-07 16:52:06,064 : INFO : EPOCH 3 - PROGRESS: at 99.11% examples, 976096 words/s, in_qsize 7, out_qsize 0\n",
      "2019-02-07 16:52:06,162 : INFO : worker thread finished; awaiting finish of 3 more threads\n",
      "2019-02-07 16:52:06,168 : INFO : worker thread finished; awaiting finish of 2 more threads\n",
      "2019-02-07 16:52:06,174 : INFO : worker thread finished; awaiting finish of 1 more threads\n",
      "2019-02-07 16:52:06,186 : INFO : worker thread finished; awaiting finish of 0 more threads\n",
      "2019-02-07 16:52:06,187 : INFO : EPOCH - 3 : training on 17798269 raw words (12872082 effective words) took 13.2s, 975662 effective words/s\n",
      "2019-02-07 16:52:07,200 : INFO : EPOCH 4 - PROGRESS: at 7.94% examples, 1012101 words/s, in_qsize 7, out_qsize 0\n",
      "2019-02-07 16:52:08,200 : INFO : EPOCH 4 - PROGRESS: at 16.35% examples, 1044452 words/s, in_qsize 7, out_qsize 0\n",
      "2019-02-07 16:52:09,203 : INFO : EPOCH 4 - PROGRESS: at 23.88% examples, 1015242 words/s, in_qsize 7, out_qsize 0\n",
      "2019-02-07 16:52:10,204 : INFO : EPOCH 4 - PROGRESS: at 30.98% examples, 988588 words/s, in_qsize 7, out_qsize 0\n"
     ]
    },
    {
     "name": "stderr",
     "output_type": "stream",
     "text": [
      "2019-02-07 16:52:11,215 : INFO : EPOCH 4 - PROGRESS: at 38.91% examples, 992162 words/s, in_qsize 7, out_qsize 0\n",
      "2019-02-07 16:52:12,219 : INFO : EPOCH 4 - PROGRESS: at 47.34% examples, 1007699 words/s, in_qsize 7, out_qsize 0\n",
      "2019-02-07 16:52:13,221 : INFO : EPOCH 4 - PROGRESS: at 54.99% examples, 1004753 words/s, in_qsize 7, out_qsize 0\n",
      "2019-02-07 16:52:14,231 : INFO : EPOCH 4 - PROGRESS: at 61.97% examples, 991724 words/s, in_qsize 7, out_qsize 0\n",
      "2019-02-07 16:52:15,232 : INFO : EPOCH 4 - PROGRESS: at 69.82% examples, 993702 words/s, in_qsize 7, out_qsize 0\n",
      "2019-02-07 16:52:16,234 : INFO : EPOCH 4 - PROGRESS: at 78.15% examples, 1001635 words/s, in_qsize 7, out_qsize 0\n",
      "2019-02-07 16:52:17,252 : INFO : EPOCH 4 - PROGRESS: at 86.02% examples, 1000877 words/s, in_qsize 7, out_qsize 0\n",
      "2019-02-07 16:52:18,254 : INFO : EPOCH 4 - PROGRESS: at 93.01% examples, 992495 words/s, in_qsize 7, out_qsize 0\n",
      "2019-02-07 16:52:19,152 : INFO : worker thread finished; awaiting finish of 3 more threads\n",
      "2019-02-07 16:52:19,155 : INFO : worker thread finished; awaiting finish of 2 more threads\n",
      "2019-02-07 16:52:19,167 : INFO : worker thread finished; awaiting finish of 1 more threads\n",
      "2019-02-07 16:52:19,172 : INFO : worker thread finished; awaiting finish of 0 more threads\n",
      "2019-02-07 16:52:19,173 : INFO : EPOCH - 4 : training on 17798269 raw words (12872161 effective words) took 13.0s, 991785 effective words/s\n",
      "2019-02-07 16:52:20,181 : INFO : EPOCH 5 - PROGRESS: at 8.22% examples, 1053047 words/s, in_qsize 7, out_qsize 0\n",
      "2019-02-07 16:52:21,183 : INFO : EPOCH 5 - PROGRESS: at 16.11% examples, 1031520 words/s, in_qsize 7, out_qsize 0\n",
      "2019-02-07 16:52:22,189 : INFO : EPOCH 5 - PROGRESS: at 23.27% examples, 988578 words/s, in_qsize 7, out_qsize 0\n",
      "2019-02-07 16:52:23,190 : INFO : EPOCH 5 - PROGRESS: at 30.68% examples, 979590 words/s, in_qsize 7, out_qsize 0\n",
      "2019-02-07 16:52:24,194 : INFO : EPOCH 5 - PROGRESS: at 39.07% examples, 997796 words/s, in_qsize 7, out_qsize 0\n",
      "2019-02-07 16:52:25,211 : INFO : EPOCH 5 - PROGRESS: at 47.17% examples, 1003100 words/s, in_qsize 7, out_qsize 0\n",
      "2019-02-07 16:52:26,219 : INFO : EPOCH 5 - PROGRESS: at 54.26% examples, 989753 words/s, in_qsize 7, out_qsize 0\n",
      "2019-02-07 16:52:27,219 : INFO : EPOCH 5 - PROGRESS: at 61.42% examples, 982462 words/s, in_qsize 7, out_qsize 0\n",
      "2019-02-07 16:52:28,220 : INFO : EPOCH 5 - PROGRESS: at 69.76% examples, 992659 words/s, in_qsize 7, out_qsize 0\n",
      "2019-02-07 16:52:29,234 : INFO : EPOCH 5 - PROGRESS: at 78.00% examples, 998295 words/s, in_qsize 7, out_qsize 0\n",
      "2019-02-07 16:52:30,242 : INFO : EPOCH 5 - PROGRESS: at 85.11% examples, 990197 words/s, in_qsize 7, out_qsize 0\n",
      "2019-02-07 16:52:31,244 : INFO : EPOCH 5 - PROGRESS: at 92.21% examples, 983908 words/s, in_qsize 7, out_qsize 0\n",
      "2019-02-07 16:52:32,164 : INFO : worker thread finished; awaiting finish of 3 more threads\n",
      "2019-02-07 16:52:32,170 : INFO : worker thread finished; awaiting finish of 2 more threads\n",
      "2019-02-07 16:52:32,178 : INFO : worker thread finished; awaiting finish of 1 more threads\n",
      "2019-02-07 16:52:32,181 : INFO : worker thread finished; awaiting finish of 0 more threads\n",
      "2019-02-07 16:52:32,182 : INFO : EPOCH - 5 : training on 17798269 raw words (12873160 effective words) took 13.0s, 990119 effective words/s\n",
      "2019-02-07 16:52:32,183 : INFO : training on a 88991345 raw words (64358731 effective words) took 63.9s, 1007865 effective words/s\n"
     ]
    },
    {
     "data": {
      "text/plain": [
       "<gensim.models.word2vec.Word2Vec at 0x1d29b27dc18>"
      ]
     },
     "execution_count": 13,
     "metadata": {},
     "output_type": "execute_result"
    }
   ],
   "source": [
    "# 파라메터값 지정\n",
    "num_features = 300 # 문자 벡터 차원 수\n",
    "min_word_count = 40 # 최소 문자 수\n",
    "num_workers = 4 # 병렬 처리 스레드 수\n",
    "context = 10 # 문자열 창 크기\n",
    "downsampling = 1e-3 # 문자 빈도 수 Downsample\n",
    "\n",
    "# 초기화 및 모델 학습\n",
    "from gensim.models import word2vec\n",
    "\n",
    "# 모델 학습\n",
    "model = word2vec.Word2Vec(sentences, \n",
    "                          workers=num_workers, \n",
    "                          size=num_features, \n",
    "                          min_count=min_word_count,\n",
    "                          window=context,\n",
    "                          sample=downsampling)\n",
    "model"
   ]
  },
  {
   "cell_type": "code",
   "execution_count": 14,
   "metadata": {},
   "outputs": [
    {
     "name": "stderr",
     "output_type": "stream",
     "text": [
      "2019-02-07 16:53:58,621 : INFO : precomputing L2-norms of word weight vectors\n",
      "2019-02-07 16:53:58,739 : INFO : saving Word2Vec object under 300features_40minwords_10text, separately None\n",
      "2019-02-07 16:53:58,740 : INFO : not storing attribute vectors_norm\n",
      "2019-02-07 16:53:58,741 : INFO : not storing attribute cum_table\n",
      "2019-02-07 16:53:59,118 : INFO : saved 300features_40minwords_10text\n"
     ]
    }
   ],
   "source": [
    "# 학습이 완료 되면 필요없는 메모리를 unload 시킨다.\n",
    "model.init_sims(replace=True)\n",
    "\n",
    "model_name = '300features_40minwords_10text'\n",
    "# model_name = '300features_50minwords_20text'\n",
    "model.save(model_name)"
   ]
  },
  {
   "cell_type": "code",
   "execution_count": 15,
   "metadata": {},
   "outputs": [
    {
     "name": "stderr",
     "output_type": "stream",
     "text": [
      "2019-02-07 16:55:10,366 : WARNING : vectors for words {'france', 'germany'} are not present in the model, ignoring these words\n"
     ]
    },
    {
     "data": {
      "text/plain": [
       "'berlin'"
      ]
     },
     "execution_count": 15,
     "metadata": {},
     "output_type": "execute_result"
    }
   ],
   "source": [
    "# 유사도가 없는 단어 추출\n",
    "model.wv.doesnt_match(\"france england germany berlin\".split())"
   ]
  },
  {
   "cell_type": "code",
   "execution_count": 16,
   "metadata": {},
   "outputs": [
    {
     "data": {
      "text/plain": [
       "[('woman', 0.6298583745956421),\n",
       " ('businessman', 0.5223996639251709),\n",
       " ('lad', 0.5195643305778503),\n",
       " ('ladi', 0.49939000606536865),\n",
       " ('millionair', 0.49880319833755493),\n",
       " ('farmer', 0.4801294207572937),\n",
       " ('widow', 0.46766507625579834),\n",
       " ('boxer', 0.4599803388118744),\n",
       " ('men', 0.4576369524002075),\n",
       " ('priest', 0.4547206461429596)]"
      ]
     },
     "execution_count": 16,
     "metadata": {},
     "output_type": "execute_result"
    }
   ],
   "source": [
    "# 가장 유사한 단어를 추출\n",
    "model.wv.most_similar(\"man\")"
   ]
  },
  {
   "cell_type": "code",
   "execution_count": 17,
   "metadata": {},
   "outputs": [
    {
     "name": "stderr",
     "output_type": "stream",
     "text": [
      "2019-02-07 17:07:14,718 : INFO : loading Doc2Vec object from 300features_40minwords_10text\n",
      "2019-02-07 17:07:14,979 : INFO : loading wv recursively from 300features_40minwords_10text.wv.* with mmap=None\n",
      "2019-02-07 17:07:14,980 : INFO : setting ignored attribute vectors_norm to None\n",
      "2019-02-07 17:07:14,980 : INFO : loading vocabulary recursively from 300features_40minwords_10text.vocabulary.* with mmap=None\n",
      "2019-02-07 17:07:14,981 : INFO : loading trainables recursively from 300features_40minwords_10text.trainables.* with mmap=None\n",
      "2019-02-07 17:07:14,982 : INFO : setting ignored attribute cum_table to None\n",
      "2019-02-07 17:07:14,983 : INFO : loaded 300features_40minwords_10text\n",
      "C:\\Anaconda3\\lib\\site-packages\\ipykernel_launcher.py:17: DeprecationWarning: Call to deprecated `__getitem__` (Method will be removed in 4.0.0, use self.wv.__getitem__() instead).\n"
     ]
    },
    {
     "name": "stdout",
     "output_type": "stream",
     "text": [
      "11986\n",
      "[ 0.02399565 -0.02906841 -0.06704022  0.0701605   0.02981392  0.00387678\n",
      "  0.04433387 -0.09781753 -0.09390901  0.03326601]\n"
     ]
    }
   ],
   "source": [
    "# Word2Vec으로 벡터화 한 단어를 t-SNE 를 통해 시각화\n",
    "\n",
    "# 참고 https://stackoverflow.com/questions/43776572/visualise-word2vec-generated-from-gensim\n",
    "from sklearn.manifold import TSNE\n",
    "import matplotlib as mpl\n",
    "import matplotlib.pyplot as plt\n",
    "import gensim \n",
    "import gensim.models as g\n",
    "\n",
    "# 그래프에서 마이너스 폰트 깨지는 문제에 대한 대처\n",
    "mpl.rcParams['axes.unicode_minus'] = False\n",
    "\n",
    "model_name = '300features_40minwords_10text'\n",
    "model = g.Doc2Vec.load(model_name)\n",
    "\n",
    "vocab = list(model.wv.vocab)\n",
    "X = model[vocab]\n",
    "\n",
    "print(len(X))\n",
    "print(X[0][:10])\n",
    "tsne = TSNE(n_components=2)\n",
    "\n",
    "# 100개의 단어에 대해서만 시각화\n",
    "X_tsne = tsne.fit_transform(X[:100,:])\n",
    "# X_tsne = tsne.fit_transform(X)\n"
   ]
  },
  {
   "cell_type": "code",
   "execution_count": 18,
   "metadata": {},
   "outputs": [
    {
     "data": {
      "text/html": [
       "<div>\n",
       "<style scoped>\n",
       "    .dataframe tbody tr th:only-of-type {\n",
       "        vertical-align: middle;\n",
       "    }\n",
       "\n",
       "    .dataframe tbody tr th {\n",
       "        vertical-align: top;\n",
       "    }\n",
       "\n",
       "    .dataframe thead th {\n",
       "        text-align: right;\n",
       "    }\n",
       "</style>\n",
       "<table border=\"1\" class=\"dataframe\">\n",
       "  <thead>\n",
       "    <tr style=\"text-align: right;\">\n",
       "      <th></th>\n",
       "      <th>x</th>\n",
       "      <th>y</th>\n",
       "    </tr>\n",
       "  </thead>\n",
       "  <tbody>\n",
       "    <tr>\n",
       "      <th>with</th>\n",
       "      <td>-7.113444</td>\n",
       "      <td>-6.546381</td>\n",
       "    </tr>\n",
       "    <tr>\n",
       "      <th>all</th>\n",
       "      <td>3.622525</td>\n",
       "      <td>-2.769243</td>\n",
       "    </tr>\n",
       "    <tr>\n",
       "      <th>this</th>\n",
       "      <td>0.297409</td>\n",
       "      <td>-2.296771</td>\n",
       "    </tr>\n",
       "    <tr>\n",
       "      <th>stuff</th>\n",
       "      <td>-1.184389</td>\n",
       "      <td>2.766552</td>\n",
       "    </tr>\n",
       "    <tr>\n",
       "      <th>go</th>\n",
       "      <td>-7.635635</td>\n",
       "      <td>-0.988203</td>\n",
       "    </tr>\n",
       "  </tbody>\n",
       "</table>\n",
       "</div>"
      ],
      "text/plain": [
       "              x         y\n",
       "with  -7.113444 -6.546381\n",
       "all    3.622525 -2.769243\n",
       "this   0.297409 -2.296771\n",
       "stuff -1.184389  2.766552\n",
       "go    -7.635635 -0.988203"
      ]
     },
     "execution_count": 18,
     "metadata": {},
     "output_type": "execute_result"
    }
   ],
   "source": [
    "df = pd.DataFrame(X_tsne, index=vocab[:100], columns=['x', 'y'])\n",
    "df.head()"
   ]
  },
  {
   "cell_type": "code",
   "execution_count": 19,
   "metadata": {},
   "outputs": [
    {
     "data": {
      "image/png": "[encoded data removed]",
      "text/plain": [
       "<Figure size 2880x1440 with 1 Axes>"
      ]
     },
     "metadata": {
      "needs_background": "light"
     },
     "output_type": "display_data"
    }
   ],
   "source": [
    "fig = plt.figure()\n",
    "fig.set_size_inches(40, 20)\n",
    "ax = fig.add_subplot(1, 1, 1)\n",
    "\n",
    "ax.scatter(df['x'], df['y'])\n",
    "\n",
    "for word, pos in df.iterrows():\n",
    "    ax.annotate(word, pos, fontsize=30)\n",
    "plt.show()"
   ]
  },
  {
   "cell_type": "code",
   "execution_count": 24,
   "metadata": {},
   "outputs": [],
   "source": [
    "import numpy as np\n",
    "\n",
    "def makeFeatureVec(words, model, num_features):\n",
    "    \"\"\"\n",
    "    주어진 문장에서 단어 벡터의 평균을 구하는 함수\n",
    "    \"\"\"\n",
    "    # 속도를 위해 0으로 채운 배열로 초기화 한다.\n",
    "    featureVec = np.zeros((num_features,),dtype=\"float32\")\n",
    "\n",
    "    nwords = 0.\n",
    "    # Index2word는 모델의 사전에 있는 단어명을 담은 리스트이다.\n",
    "    # 속도를 위해 set 형태로 초기화 한다.\n",
    "    index2word_set = set(model.wv.index2word)\n",
    "    # 루프를 돌며 모델 사전에 포함이 되는 단어라면 피처에 추가한다.\n",
    "    for word in words:\n",
    "        if word in index2word_set:\n",
    "            nwords = nwords + 1.\n",
    "            featureVec = np.add(featureVec,model[word])\n",
    "    # 결과를 단어수로 나누어 평균을 구한다.\n",
    "    featureVec = np.divide(featureVec,nwords)\n",
    "    return featureVec"
   ]
  },
  {
   "cell_type": "code",
   "execution_count": 25,
   "metadata": {},
   "outputs": [],
   "source": [
    "def getAvgFeatureVecs(reviews, model, num_features):\n",
    "    # 리뷰 단어 목록의 각각에 대한 평균 feature 벡터를 계산하고 \n",
    "    # 2D numpy 배열을 반환한다.\n",
    "    \n",
    "    # 카운터를 초기화 한다.\n",
    "    counter = 0.\n",
    "    # 속도를 위해 2D 넘파이 배열을 미리 할당한다.\n",
    "    reviewFeatureVecs = np.zeros(\n",
    "        (len(reviews),num_features),dtype=\"float32\")\n",
    "    \n",
    "    for review in reviews:\n",
    "       # 매 1000개 리뷰마다 상태를 출력\n",
    "       if counter%1000. == 0.:\n",
    "           print(\"Review %d of %d\" % (counter, len(reviews)))\n",
    "       # 평균 피처 벡터를 만들기 위해 위에서 정의한 함수를 호출한다.\n",
    "       reviewFeatureVecs[int(counter)] = makeFeatureVec(review, model, \\\n",
    "           num_features)\n",
    "       # 카운터를 증가시킨다.\n",
    "       counter = counter + 1.\n",
    "    return reviewFeatureVecs"
   ]
  },
  {
   "cell_type": "code",
   "execution_count": 28,
   "metadata": {},
   "outputs": [],
   "source": [
    "# 멀티스레드로 4개의 워커를 사용해 처리한다.\n",
    "def getCleanReviews(reviews):\n",
    "    clean_reviews = []\n",
    "    clean_reviews = Utility.apply_by_multiprocessing(reviews[\"review\"], Utility.review_to_wordlist, workers=4)\n",
    "    return clean_reviews"
   ]
  },
  {
   "cell_type": "code",
   "execution_count": 29,
   "metadata": {},
   "outputs": [
    {
     "name": "stdout",
     "output_type": "stream",
     "text": [
      "Review 0 of 25000\n"
     ]
    },
    {
     "name": "stderr",
     "output_type": "stream",
     "text": [
      "C:\\Anaconda3\\lib\\site-packages\\ipykernel_launcher.py:18: DeprecationWarning: Call to deprecated `__getitem__` (Method will be removed in 4.0.0, use self.wv.__getitem__() instead).\n"
     ]
    },
    {
     "name": "stdout",
     "output_type": "stream",
     "text": [
      "Review 1000 of 25000\n",
      "Review 2000 of 25000\n",
      "Review 3000 of 25000\n",
      "Review 4000 of 25000\n",
      "Review 5000 of 25000\n",
      "Review 6000 of 25000\n",
      "Review 7000 of 25000\n",
      "Review 8000 of 25000\n",
      "Review 9000 of 25000\n",
      "Review 10000 of 25000\n",
      "Review 11000 of 25000\n",
      "Review 12000 of 25000\n",
      "Review 13000 of 25000\n",
      "Review 14000 of 25000\n",
      "Review 15000 of 25000\n",
      "Review 16000 of 25000\n",
      "Review 17000 of 25000\n",
      "Review 18000 of 25000\n",
      "Review 19000 of 25000\n",
      "Review 20000 of 25000\n",
      "Review 21000 of 25000\n",
      "Review 22000 of 25000\n",
      "Review 23000 of 25000\n",
      "Review 24000 of 25000\n",
      "Wall time: 1min 11s\n"
     ]
    }
   ],
   "source": [
    "%time trainDataVecs = getAvgFeatureVecs(getCleanReviews(train), model, num_features )"
   ]
  },
  {
   "cell_type": "code",
   "execution_count": 30,
   "metadata": {},
   "outputs": [
    {
     "name": "stdout",
     "output_type": "stream",
     "text": [
      "Review 0 of 20\n",
      "Wall time: 3.38 s\n"
     ]
    },
    {
     "name": "stderr",
     "output_type": "stream",
     "text": [
      "C:\\Anaconda3\\lib\\site-packages\\ipykernel_launcher.py:18: DeprecationWarning: Call to deprecated `__getitem__` (Method will be removed in 4.0.0, use self.wv.__getitem__() instead).\n"
     ]
    }
   ],
   "source": [
    "%time testDataVecs = getAvgFeatureVecs(getCleanReviews(test), model, num_features )"
   ]
  },
  {
   "cell_type": "code",
   "execution_count": 31,
   "metadata": {},
   "outputs": [],
   "source": [
    "from sklearn.ensemble import RandomForestClassifier\n",
    "\n",
    "forest = RandomForestClassifier(n_estimators = 200, n_jobs = -1, random_state=2018)"
   ]
  },
  {
   "cell_type": "code",
   "execution_count": 32,
   "metadata": {},
   "outputs": [
    {
     "name": "stdout",
     "output_type": "stream",
     "text": [
      "Wall time: 13 s\n"
     ]
    }
   ],
   "source": [
    "%time forest = forest.fit( trainDataVecs, train[\"sentiment\"] )"
   ]
  },
  {
   "cell_type": "code",
   "execution_count": 33,
   "metadata": {},
   "outputs": [
    {
     "name": "stdout",
     "output_type": "stream",
     "text": [
      "Wall time: 1min 55s\n"
     ]
    }
   ],
   "source": [
    "from sklearn.model_selection import cross_val_score\n",
    "%time score = np.mean(cross_val_score(forest, trainDataVecs, train['sentiment'], cv=10, scoring='roc_auc'))"
   ]
  },
  {
   "cell_type": "code",
   "execution_count": 34,
   "metadata": {},
   "outputs": [
    {
     "data": {
      "text/plain": [
       "0.903403456"
      ]
     },
     "execution_count": 34,
     "metadata": {},
     "output_type": "execute_result"
    }
   ],
   "source": [
    "score"
   ]
  },
  {
   "cell_type": "code",
   "execution_count": 35,
   "metadata": {},
   "outputs": [],
   "source": [
    "result = forest.predict( testDataVecs )"
   ]
  },
  {
   "cell_type": "code",
   "execution_count": 36,
   "metadata": {},
   "outputs": [],
   "source": [
    "output = pd.DataFrame( data={\"id\":test[\"id\"], \"sentiment\":result} )\n",
    "output.to_csv('data/word2vectest.csv'.format(score), index=False, quoting=3 )"
   ]
  },
  {
   "cell_type": "code",
   "execution_count": 37,
   "metadata": {},
   "outputs": [],
   "source": [
    "#### K-means ####\n",
    "\n",
    "import pandas as pd\n",
    "import numpy as np\n",
    "from gensim.models import Word2Vec\n",
    "from sklearn.cluster import KMeans\n",
    "from sklearn.ensemble import RandomForestClassifier\n",
    "\n",
    "from bs4 import BeautifulSoup\n",
    "import re\n",
    "import time\n",
    "\n",
    "from nltk.corpus import stopwords\n",
    "import nltk.data\n",
    "\n",
    "import matplotlib.pyplot as plt\n",
    "import seaborn as sns\n",
    "%matplotlib inline\n"
   ]
  },
  {
   "cell_type": "code",
   "execution_count": 38,
   "metadata": {},
   "outputs": [
    {
     "name": "stderr",
     "output_type": "stream",
     "text": [
      "2019-02-07 19:58:29,546 : INFO : loading Word2Vec object from 300features_40minwords_10text\n",
      "2019-02-07 19:58:29,797 : INFO : loading wv recursively from 300features_40minwords_10text.wv.* with mmap=None\n",
      "2019-02-07 19:58:29,797 : INFO : setting ignored attribute vectors_norm to None\n",
      "2019-02-07 19:58:29,812 : INFO : loading vocabulary recursively from 300features_40minwords_10text.vocabulary.* with mmap=None\n",
      "2019-02-07 19:58:29,812 : INFO : loading trainables recursively from 300features_40minwords_10text.trainables.* with mmap=None\n",
      "2019-02-07 19:58:29,814 : INFO : setting ignored attribute cum_table to None\n",
      "2019-02-07 19:58:29,814 : INFO : loaded 300features_40minwords_10text\n"
     ]
    },
    {
     "data": {
      "text/plain": [
       "<gensim.models.word2vec.Word2Vec at 0x1d2ad83f550>"
      ]
     },
     "execution_count": 38,
     "metadata": {},
     "output_type": "execute_result"
    }
   ],
   "source": [
    "model = Word2Vec.load('300features_40minwords_10text')\n",
    "model"
   ]
  },
  {
   "cell_type": "code",
   "execution_count": 39,
   "metadata": {},
   "outputs": [
    {
     "name": "stderr",
     "output_type": "stream",
     "text": [
      "C:\\Anaconda3\\lib\\site-packages\\ipykernel_launcher.py:6: DeprecationWarning: Call to deprecated `syn0` (Attribute will be removed in 4.0.0, use self.vectors instead).\n",
      "  \n"
     ]
    },
    {
     "data": {
      "text/plain": [
       "numpy.ndarray"
      ]
     },
     "execution_count": 39,
     "metadata": {},
     "output_type": "execute_result"
    }
   ],
   "source": [
    "# 숫자로 단어를 표현\n",
    "# Word2Vec 모델은 어휘의 각 단어에 대한 feature 벡터로 구성되며 \n",
    "# 'syn0'이라는 넘파이 배열로 저장된다.\n",
    "# syn0의 행 수는 모델 어휘의 단어 수\n",
    "# 컬럼 수는 2 부에서 설정 한 피처 벡터의 크기\n",
    "type(model.wv.syn0)"
   ]
  },
  {
   "cell_type": "code",
   "execution_count": 40,
   "metadata": {},
   "outputs": [
    {
     "name": "stderr",
     "output_type": "stream",
     "text": [
      "C:\\Anaconda3\\lib\\site-packages\\ipykernel_launcher.py:3: DeprecationWarning: Call to deprecated `syn0` (Attribute will be removed in 4.0.0, use self.vectors instead).\n",
      "  This is separate from the ipykernel package so we can avoid doing imports until\n"
     ]
    },
    {
     "data": {
      "text/plain": [
       "(11986, 300)"
      ]
     },
     "execution_count": 40,
     "metadata": {},
     "output_type": "execute_result"
    }
   ],
   "source": [
    "# syn0의 행 수는 모델 어휘의 단어 수\n",
    "# 열 수는 2부에서 설정한 특징 벡터의 크기\n",
    "model.wv.syn0.shape"
   ]
  },
  {
   "cell_type": "code",
   "execution_count": 41,
   "metadata": {},
   "outputs": [
    {
     "data": {
      "text/plain": [
       "(300,)"
      ]
     },
     "execution_count": 41,
     "metadata": {},
     "output_type": "execute_result"
    }
   ],
   "source": [
    "# 개별 단어 벡터 접근\n",
    "model.wv['flower'].shape"
   ]
  },
  {
   "cell_type": "code",
   "execution_count": 42,
   "metadata": {},
   "outputs": [
    {
     "data": {
      "text/plain": [
       "array([-0.11381162, -0.08161184, -0.02321761,  0.03785877, -0.06243423,\n",
       "       -0.07022057, -0.01582411, -0.02596163, -0.07053345, -0.0422224 ],\n",
       "      dtype=float32)"
      ]
     },
     "execution_count": 42,
     "metadata": {},
     "output_type": "execute_result"
    }
   ],
   "source": [
    "model.wv['flower'][:10]"
   ]
  },
  {
   "cell_type": "code",
   "execution_count": 43,
   "metadata": {},
   "outputs": [],
   "source": [
    "#### K-means (K평균)클러스터링으로 데이터 묶기 ####"
   ]
  },
  {
   "cell_type": "code",
   "execution_count": 44,
   "metadata": {},
   "outputs": [
    {
     "name": "stderr",
     "output_type": "stream",
     "text": [
      "C:\\Anaconda3\\lib\\site-packages\\ipykernel_launcher.py:5: DeprecationWarning: Call to deprecated `syn0` (Attribute will be removed in 4.0.0, use self.vectors instead).\n",
      "  \"\"\"\n"
     ]
    },
    {
     "name": "stdout",
     "output_type": "stream",
     "text": [
      "Time taken for K Means clustering:  386.98606514930725 seconds.\n"
     ]
    }
   ],
   "source": [
    "# 단어 벡터에서 k-means를 실행하고 일부 클러스터를 찍어본다.\n",
    "start = time.time() # 시작시간\n",
    "\n",
    "# 클러스터의 크기 \"k\"를 어휘 크기의 1/5 이나 평균 5단어로 설정한다.\n",
    "word_vectors = model.wv.syn0 # 어휘의 feature vector\n",
    "num_clusters = word_vectors.shape[0] / 5\n",
    "num_clusters = int(num_clusters)\n",
    "\n",
    "# K means 를 정의하고 학습시킨다.\n",
    "kmeans_clustering = KMeans( n_clusters = num_clusters )\n",
    "idx = kmeans_clustering.fit_predict( word_vectors )\n",
    "\n",
    "# 끝난시간에서 시작시간을 빼서 걸린 시간을 구한다.\n",
    "end = time.time()\n",
    "elapsed = end - start\n",
    "print(\"Time taken for K Means clustering: \", elapsed, \"seconds.\")"
   ]
  },
  {
   "cell_type": "code",
   "execution_count": 45,
   "metadata": {},
   "outputs": [
    {
     "name": "stdout",
     "output_type": "stream",
     "text": [
      "\n",
      "Cluster 0\n",
      "['merchant', 'fortress', 'outpost', 'detent', 'spitfir']\n",
      "\n",
      "Cluster 1\n",
      "['ladd', 'palmer', 'gardner', 'weaver', 'moss', 'ava', 'goddard', 'ozzi', 'perez', 'sigourney', 'hussey', 'paulett']\n",
      "\n",
      "Cluster 2\n",
      "['repel', 'heartless', 'brute', 'bystand', 'brutish', 'benign', 'uncar', 'cruelli']\n",
      "\n",
      "Cluster 3\n",
      "['pointless', 'random', 'unnecessari', 'useless', 'inappropri', 'irrelev', 'unrel', 'filler', 'superflu', 'unjustifi']\n",
      "\n",
      "Cluster 4\n",
      "['slept', 'streak', 'fling', 'threesom', 'courtship', 'frolic', 'tryst']\n",
      "\n",
      "Cluster 5\n",
      "['jess', 'rodriguez', 'russo', 'arabia', 'fargo', 'newbi', 'ar', 'keach']\n",
      "\n",
      "Cluster 6\n",
      "['fli', 'jump', 'roll', 'flip', 'climb', 'smash', 'float', 'blast', 'melt', 'leap', 'crawl', 'slide', 'bounc', 'grind', 'scrape', 'stomp', 'rattl']\n",
      "\n",
      "Cluster 7\n",
      "['wide', 'wider', 'broader']\n",
      "\n",
      "Cluster 8\n",
      "['docu']\n",
      "\n",
      "Cluster 9\n",
      "['subject', 'issu', 'topic', 'controversi']\n"
     ]
    }
   ],
   "source": [
    "# 각 어휘 단어를 클러스터 번호에 매핑되게 word/Index 사전을 만든다.\n",
    "idx = list(idx)\n",
    "names = model.wv.index2word\n",
    "word_centroid_map = {names[i]: idx[i] for i in range(len(names))}\n",
    "#     word_centroid_map = dict(zip( model.wv.index2word, idx ))\n",
    "\n",
    "# 첫번째 클러스터의 처음 10개를 출력\n",
    "for cluster in range(0,10):\n",
    "    # 클러스터 번호를 출력\n",
    "    print(\"\\nCluster {}\".format(cluster))\n",
    "    \n",
    "    # 클러스터번호와 클러스터에 있는 단어를 찍는다.\n",
    "    words = []\n",
    "    for i in range(0,len(list(word_centroid_map.values()))):\n",
    "        if( list(word_centroid_map.values())[i] == cluster ):\n",
    "            words.append(list(word_centroid_map.keys())[i])\n",
    "    print(words)"
   ]
  },
  {
   "cell_type": "code",
   "execution_count": 49,
   "metadata": {},
   "outputs": [],
   "source": [
    "\"\"\"\n",
    "판다스로 데이터프레임 형태의 데이터로 읽어온다.\n",
    "QUOTE_MINIMAL (0), QUOTE_ALL (1), \n",
    "QUOTE_NONNUMERIC (2) or QUOTE_NONE (3).\n",
    "\n",
    "그리고 이전 튜토리얼에서 했던 것처럼 clean_train_reviews 와 \n",
    "clean_test_reviews 로 텍스트를 정제한다.\n",
    "\"\"\"\n",
    "train = pd.read_csv('C:/kaggle/labeledTrainData.tsv', header=0, delimiter=\"\\t\", quoting=3)\n",
    "test = pd.read_csv('C:/kaggle/example.tsv', header=0, delimiter=\"\\t\", quoting=3)\n",
    "# unlabeled_train = pd.read_csv( 'data/unlabeledTrainData.tsv', header=0,  delimiter=\"\\t\", quoting=3 )"
   ]
  },
  {
   "cell_type": "code",
   "execution_count": 50,
   "metadata": {},
   "outputs": [],
   "source": [
    "from KaggleUtility import Utility\n",
    "# 학습 리뷰를 정제한다.\n",
    "clean_train_reviews = []\n",
    "for review in train[\"review\"]:\n",
    "    clean_train_reviews.append(Utility.review_to_wordlist( review, remove_stopwords=True ))"
   ]
  },
  {
   "cell_type": "code",
   "execution_count": 51,
   "metadata": {},
   "outputs": [],
   "source": [
    "# 테스트 리뷰를 정제한다.\n",
    "clean_test_reviews = []\n",
    "for review in test[\"review\"]:\n",
    "    clean_test_reviews.append(Utility.review_to_wordlist( review, remove_stopwords=True ))"
   ]
  },
  {
   "cell_type": "code",
   "execution_count": 52,
   "metadata": {},
   "outputs": [
    {
     "data": {
      "text/plain": [
       "array([[0., 0., 0., ..., 0., 0., 0.],\n",
       "       [0., 0., 0., ..., 0., 0., 0.],\n",
       "       [0., 0., 0., ..., 0., 0., 0.],\n",
       "       [0., 0., 0., ..., 0., 0., 0.],\n",
       "       [0., 0., 0., ..., 0., 0., 0.]], dtype=float32)"
      ]
     },
     "execution_count": 52,
     "metadata": {},
     "output_type": "execute_result"
    }
   ],
   "source": [
    "# bags of centroids 생성\n",
    "# 속도를 위해 centroid 학습 세트 bag을 미리 할당 한다.\n",
    "train_centroids = np.zeros((train[\"review\"].size, num_clusters), dtype=\"float32\" )\n",
    "\n",
    "train_centroids[:5]"
   ]
  },
  {
   "cell_type": "code",
   "execution_count": 53,
   "metadata": {},
   "outputs": [],
   "source": [
    "# centroid 는 두 클러스터의 중심점을 정의 한 다음 중심점의 거리를 측정한 것\n",
    "def create_bag_of_centroids( wordlist, word_centroid_map ):\n",
    "    \n",
    "    # 클러스터의 수는 word / centroid map에서 가장 높은 클러스트 인덱스와 같다.\n",
    "    num_centroids = max( word_centroid_map.values() ) + 1\n",
    "    \n",
    "    # 속도를 위해 bag of centroids vector를 미리 할당한다.\n",
    "    bag_of_centroids = np.zeros( num_centroids, dtype=\"float32\" )\n",
    "    \n",
    "    # 루프를 돌며 단어가 word_centroid_map에 있다면\n",
    "    # 해당되는 클러스터의 수를 하나씩 증가시켜 준다.\n",
    "    for word in wordlist:\n",
    "        if word in word_centroid_map:\n",
    "            index = word_centroid_map[word]\n",
    "            bag_of_centroids[index] += 1\n",
    "    \n",
    "    # bag of centroids를 반환한다.\n",
    "    return bag_of_centroids"
   ]
  },
  {
   "cell_type": "code",
   "execution_count": 54,
   "metadata": {},
   "outputs": [
    {
     "name": "stdout",
     "output_type": "stream",
     "text": [
      "Fitting a random forest to labeled training data...\n",
      "Wall time: 31.3 s\n"
     ]
    }
   ],
   "source": [
    "# 학습 리뷰를 bags of centroids 로 변환한다.\n",
    "counter = 0\n",
    "for review in clean_train_reviews:\n",
    "    train_centroids[counter] = create_bag_of_centroids( review, word_centroid_map )\n",
    "    counter += 1\n",
    "\n",
    "# 테스트 리뷰도 같은 방법으로 반복해 준다.\n",
    "test_centroids = np.zeros(( test[\"review\"].size, num_clusters), dtype=\"float32\" )\n",
    "\n",
    "counter = 0\n",
    "for review in clean_test_reviews:\n",
    "    test_centroids[counter] = create_bag_of_centroids( review, word_centroid_map )\n",
    "    counter += 1\n",
    "\n",
    "\n",
    "# 랜덤포레스트를 사용하여 학습시키고 예측\n",
    "forest = RandomForestClassifier(n_estimators = 100)\n",
    "\n",
    "# train 데이터의 레이블을 통해 학습시키고 예측한다.\n",
    "# 시간이 좀 소요되기 때문에 %time을 통해 걸린 시간을 찍도록 함\n",
    "print(\"Fitting a random forest to labeled training data...\")\n",
    "%time forest = forest.fit(train_centroids, train[\"sentiment\"])"
   ]
  },
  {
   "cell_type": "code",
   "execution_count": 55,
   "metadata": {},
   "outputs": [
    {
     "name": "stdout",
     "output_type": "stream",
     "text": [
      "Wall time: 4min 37s\n"
     ]
    }
   ],
   "source": [
    "from sklearn.model_selection import cross_val_score\n",
    "%time score = np.mean(cross_val_score(forest, train_centroids, train['sentiment'], cv=10, scoring='roc_auc'))"
   ]
  },
  {
   "cell_type": "code",
   "execution_count": 56,
   "metadata": {},
   "outputs": [
    {
     "name": "stdout",
     "output_type": "stream",
     "text": [
      "Wall time: 9.95 ms\n"
     ]
    }
   ],
   "source": [
    "%time result = forest.predict(test_centroids)"
   ]
  },
  {
   "cell_type": "code",
   "execution_count": 57,
   "metadata": {},
   "outputs": [
    {
     "data": {
      "text/plain": [
       "0.9099403200000001"
      ]
     },
     "execution_count": 57,
     "metadata": {},
     "output_type": "execute_result"
    }
   ],
   "source": [
    "score"
   ]
  },
  {
   "cell_type": "code",
   "execution_count": 58,
   "metadata": {},
   "outputs": [],
   "source": [
    "# 결과를 csv로 저장\n",
    "output = pd.DataFrame(data={\"id\":test[\"id\"], \"sentiment\":result})\n",
    "output.to_csv(\"data/kmeanstest.csv\".format(score), index=False, quoting=3)"
   ]
  },
  {
   "cell_type": "code",
   "execution_count": null,
   "metadata": {},
   "outputs": [],
   "source": []
  },
  {
   "cell_type": "code",
   "execution_count": null,
   "metadata": {},
   "outputs": [],
   "source": []
  },
  {
   "cell_type": "code",
   "execution_count": null,
   "metadata": {},
   "outputs": [],
   "source": []
  }
 ],
 "metadata": {
  "kernelspec": {
   "display_name": "Python 3",
   "language": "python",
   "name": "python3"
  },
  "language_info": {
   "codemirror_mode": {
    "name": "ipython",
    "version": 3
   },
   "file_extension": ".py",
   "mimetype": "text/x-python",
   "name": "python",
   "nbconvert_exporter": "python",
   "pygments_lexer": "ipython3",
   "version": "3.7.0"
  }
 },
 "nbformat": 4,
 "nbformat_minor": 2
}
